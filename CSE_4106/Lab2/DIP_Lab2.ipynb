{
 "cells": [
  {
   "cell_type": "code",
   "execution_count": 2,
   "id": "5b04444b",
   "metadata": {},
   "outputs": [
    {
     "name": "stdout",
     "output_type": "stream",
     "text": [
      "Original 3x3 Image:\n",
      "[[ 50 120 200]\n",
      " [ 80 150 250]\n",
      " [ 30 100 180]]\n",
      "\n",
      "6x6 Interpolated Image:\n",
      "[[ 50  67 102 140 180 200]\n",
      " [ 58  75 110 149 191 213]\n",
      " [ 73  90 125 166 214 238]\n",
      " [ 68  85 120 161 209 233]\n",
      " [ 43  60  95 134 176 198]\n",
      " [ 30  47  82 120 160 180]]\n"
     ]
    }
   ],
   "source": [
    "import numpy as np\n",
    "import matplotlib.pyplot as plt\n",
    "import cv2\n",
    "\n",
    "# Original 3x3 image\n",
    "image = np.array([[50, 120, 200],\n",
    "                  [80, 150, 250],\n",
    "                  [30, 100, 180]], dtype=np.uint8)\n",
    "\n",
    "interpolated_image_lf = cv2.resize(image, (6, 6), interpolation=cv2.INTER_LINEAR)\n",
    "\n",
    "# Print both arrays\n",
    "print(\"Original 3x3 Image:\")\n",
    "print(image)\n",
    "print(\"\\n6x6 Interpolated Image:\")\n",
    "print(interpolated_image_lf)"
   ]
  },
  {
   "cell_type": "code",
   "execution_count": 3,
   "id": "23a4c157",
   "metadata": {},
   "outputs": [
    {
     "name": "stdout",
     "output_type": "stream",
     "text": [
      "Original 3x3 Image:\n",
      "[[ 50 120 200]\n",
      " [ 80 150 250]\n",
      " [ 30 100 180]] \n",
      "\n",
      "Manually_interpolated_image\n",
      "[[0 0 0 0 0 0]\n",
      " [1 0 0 1 0 1]\n",
      " [1 0 0 0 1 1]\n",
      " [1 0 0 0 1 1]\n",
      " [1 0 0 1 0 1]\n",
      " [0 0 0 0 0 0]]\n"
     ]
    }
   ],
   "source": [
    "import numpy as np\n",
    "import cv2  \n",
    "\n",
    "def manual_bilinear_resize(image, Hout, Wout):\n",
    "    Hin, Win = image.shape\n",
    "    manually_interpolated_image = np.zeros((Hout, Wout), dtype=image.dtype)\n",
    "\n",
    "    for i in range(Hout):\n",
    "        for j in range(Wout):\n",
    "            # Step-1\n",
    "            x = (j + 0.5) * Win / Wout - 0.5\n",
    "            y = (i + 0.5) * Hin / Hout - 0.5\n",
    "            \n",
    "\t\t\t# Step-2\n",
    "            x0 = int(np.floor(x))\n",
    "            y0 = int(np.floor(y))\n",
    "            x1 = min(x0 + 1, Win - 1)\n",
    "            y1 = min(y0 + 1, Hin - 1)\n",
    "            \n",
    "\t\t\t# Step-3\n",
    "            x0 = max(x0, 0)\n",
    "            y0 = max(y0, 0)\n",
    "            \n",
    "\t\t\t# Step-4\n",
    "            dx = x - x0\n",
    "            dy = y - y0\n",
    "            \n",
    "            A = image[y0, x0]\n",
    "            B = image[y0, x1]\n",
    "            C = image[y1, x0]\n",
    "            D = image[y1, x1]\n",
    "            \n",
    "\t\t\t# Horizontal interpolation\n",
    "            Top = A * (1 - dx) + B * dx\n",
    "            Bottom = C * (1 - dx) + D * dx\n",
    "            \n",
    "\t\t\t# Vertical interpolation\n",
    "            value = Top * (1 - dy) + Bottom * dy\n",
    "\n",
    "            manually_interpolated_image[i, j] = int(value)\n",
    "\n",
    "    return manually_interpolated_image\n",
    "\n",
    "\n",
    "Hout = 6\n",
    "Wout = 6\n",
    "\n",
    "manually_interpolated_image = manual_bilinear_resize(image, Hout, Wout)\n",
    "\n",
    "print(\"Original 3x3 Image:\")\n",
    "print(image,'\\n')\n",
    "print(\"Manually_interpolated_image\")\n",
    "print(interpolated_image_lf-manually_interpolated_image)"
   ]
  },
  {
   "cell_type": "code",
   "execution_count": null,
   "id": "b839bddd",
   "metadata": {},
   "outputs": [],
   "source": []
  }
 ],
 "metadata": {
  "kernelspec": {
   "display_name": "Python 3",
   "language": "python",
   "name": "python3"
  },
  "language_info": {
   "codemirror_mode": {
    "name": "ipython",
    "version": 3
   },
   "file_extension": ".py",
   "mimetype": "text/x-python",
   "name": "python",
   "nbconvert_exporter": "python",
   "pygments_lexer": "ipython3",
   "version": "3.13.2"
  }
 },
 "nbformat": 4,
 "nbformat_minor": 5
}
