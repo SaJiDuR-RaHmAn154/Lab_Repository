{
 "cells": [
  {
   "cell_type": "code",
   "execution_count": 3,
   "metadata": {},
   "outputs": [
    {
     "name": "stdout",
     "output_type": "stream",
     "text": [
      "Z-transform of x[n]: Sum(0.5**n*Heaviside(n)/z**n, (n, 0, oo))\n",
      "Partial Fraction Expansion of X(z): Sum(0.5**n*Heaviside(n)/z**n, (n, 0, oo))\n",
      "Inverse Z-transform (partial fraction): 0.5**n*Heaviside(n)\n",
      "Numerical verification: [1.0, 0.5, 0.25, 0.125, 0.0625, 0.03125, 0.015625, 0.0078125, 0.00390625, 0.001953125, 0.0009765625]\n"
     ]
    }
   ],
   "source": [
    "# 1.3\n",
    "# 3. Z-Transform and Inverse Z-Transform Using Partial Fractions\n",
    "# Objective: Compute the Z-transform and inverse Z-transform.\n",
    "\n",
    "# Task:\n",
    "# • Given the discrete-time signal:\n",
    "# x[n] = (0.5)nu[n] (3)\n",
    "# where u[n] is the unit step function.\n",
    "# • Compute the Z-transform of x[n] symbolically using sympy.\n",
    "# • Compute the inverse Z-transform using:\n",
    "# – Partial fraction expansion.\n",
    "# – sympy.inverse z transform().\n",
    "# • Verify the results numerically.\n",
    "\n",
    "import sympy as sp\n",
    "import numpy as np\n",
    "\n",
    "# Define the discrete-time signal\n",
    "n = sp.symbols('n')\n",
    "x_n = (0.5)**n * sp.Heaviside(n)\n",
    "\n",
    "# Compute the Z-transform of x[n]\n",
    "z = sp.symbols('z')\n",
    "X_z = sp.summation(x_n * z**(-n), (n, 0, sp.oo))\n",
    "print(\"Z-transform of x[n]:\", X_z)\n",
    "\n",
    "# Compute the inverse Z-transform using partial fraction expansion\n",
    "X_z_partial = sp.apart(X_z)\n",
    "print(\"Partial Fraction Expansion of X(z):\", X_z_partial)\n",
    "\n",
    "# Manually compute the inverse Z-transform using partial fractions\n",
    "# X(z) = 1 / (1 - 0.5z^(-1))\n",
    "# Inverse Z-transform of 1 / (1 - 0.5z^(-1)) is (0.5)^n * u[n]\n",
    "x_n_inv_partial = (0.5)**n * sp.Heaviside(n)\n",
    "print(\"Inverse Z-transform (partial fraction):\", x_n_inv_partial)\n",
    "\n",
    "# Verify the results numerically\n",
    "x_n_numeric = [0.5**i for i in range(11)]\n",
    "print(\"Numerical verification:\", x_n_numeric)"
   ]
  },
  {
   "cell_type": "code",
   "execution_count": null,
   "metadata": {},
   "outputs": [],
   "source": []
  }
 ],
 "metadata": {
  "kernelspec": {
   "display_name": "Python 3",
   "language": "python",
   "name": "python3"
  },
  "language_info": {
   "codemirror_mode": {
    "name": "ipython",
    "version": 3
   },
   "file_extension": ".py",
   "mimetype": "text/x-python",
   "name": "python",
   "nbconvert_exporter": "python",
   "pygments_lexer": "ipython3",
   "version": "3.13.2"
  }
 },
 "nbformat": 4,
 "nbformat_minor": 2
}
