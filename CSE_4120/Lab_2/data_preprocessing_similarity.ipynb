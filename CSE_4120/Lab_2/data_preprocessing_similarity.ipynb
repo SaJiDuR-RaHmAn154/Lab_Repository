{
 "cells": [
  {
   "cell_type": "code",
   "execution_count": 28,
   "id": "30a88a5e",
   "metadata": {},
   "outputs": [],
   "source": [
    "import pandas as pd\n",
    "import numpy as np\n",
    "import math"
   ]
  },
  {
   "cell_type": "code",
   "execution_count": 29,
   "id": "043f0e07",
   "metadata": {},
   "outputs": [
    {
     "name": "stdout",
     "output_type": "stream",
     "text": [
      "Dataset shape: (891, 12)\n",
      "\n",
      "First 5 rows:\n",
      "   PassengerId  Survived  Pclass  \\\n",
      "0            1         0       3   \n",
      "1            2         1       1   \n",
      "2            3         1       3   \n",
      "3            4         1       1   \n",
      "4            5         0       3   \n",
      "\n",
      "                                                Name     Sex   Age  SibSp  \\\n",
      "0                            Braund, Mr. Owen Harris    male  22.0      1   \n",
      "1  Cumings, Mrs. John Bradley (Florence Briggs Th...  female  38.0      1   \n",
      "2                             Heikkinen, Miss. Laina  female  26.0      0   \n",
      "3       Futrelle, Mrs. Jacques Heath (Lily May Peel)  female  35.0      1   \n",
      "4                           Allen, Mr. William Henry    male  35.0      0   \n",
      "\n",
      "   Parch            Ticket     Fare Cabin Embarked  \n",
      "0      0         A/5 21171   7.2500   NaN        S  \n",
      "1      0          PC 17599  71.2833   C85        C  \n",
      "2      0  STON/O2. 3101282   7.9250   NaN        S  \n",
      "3      0            113803  53.1000  C123        S  \n",
      "4      0            373450   8.0500   NaN        S  \n"
     ]
    }
   ],
   "source": [
    "# Load the Titanic dataset\n",
    "df = pd.read_excel('Lab2_titanic.xlsx')\n",
    "print(\"Dataset shape:\", df.shape)\n",
    "print(\"\\nFirst 5 rows:\")\n",
    "print(df.head())"
   ]
  },
  {
   "cell_type": "code",
   "execution_count": 30,
   "id": "6c5f9174",
   "metadata": {},
   "outputs": [
    {
     "name": "stdout",
     "output_type": "stream",
     "text": [
      "Missing values in each column:\n",
      "PassengerId      0\n",
      "Survived         0\n",
      "Pclass           0\n",
      "Name             0\n",
      "Sex              0\n",
      "Age            177\n",
      "SibSp            0\n",
      "Parch            0\n",
      "Ticket           0\n",
      "Fare             0\n",
      "Cabin          687\n",
      "Embarked         2\n",
      "dtype: int64\n"
     ]
    }
   ],
   "source": [
    "# Missing values\n",
    "print(\"Missing values in each column:\")\n",
    "print(df.isnull().sum())"
   ]
  },
  {
   "cell_type": "code",
   "execution_count": 41,
   "id": "83945e98",
   "metadata": {},
   "outputs": [
    {
     "name": "stdout",
     "output_type": "stream",
     "text": [
      "Removed Cabin column from the dataset\n",
      "Filled Embarked missing values with mode: S\n",
      "\n",
      "Missing values after handling:\n",
      "PassengerId    0\n",
      "Survived       0\n",
      "Pclass         0\n",
      "Name           0\n",
      "Sex            0\n",
      "Age            0\n",
      "SibSp          0\n",
      "Parch          0\n",
      "Ticket         0\n",
      "Fare           0\n",
      "Embarked       0\n",
      "dtype: int64\n"
     ]
    }
   ],
   "source": [
    "df_clean = df.copy()\n",
    "\n",
    "# Remove Cabin column\n",
    "df_clean = df_clean.drop('Cabin', axis=1)\n",
    "print(\"Removed Cabin column from the dataset\")\n",
    "\n",
    "# For numeric columns (using mean)\n",
    "df_clean['Age'] = df_clean.groupby(['Sex','Pclass'])['Age'].transform(lambda x: x.fillna(x.median()))\n",
    "\n",
    "# For categorical columns (using mode)\n",
    "categorical_columns = df_clean.select_dtypes(include=['object']).columns\n",
    "for col in categorical_columns:\n",
    "    if df_clean[col].isnull().sum() > 0:\n",
    "        mode_val = df_clean[col].mode()[0] if not df_clean[col].mode().empty else 'Unknown'\n",
    "        df_clean[col] = df_clean[col].fillna(mode_val)\n",
    "        print(f\"Filled {col} missing values with mode: {mode_val}\")\n",
    "\n",
    "print(\"\\nMissing values after handling:\")\n",
    "print(df_clean.isnull().sum())"
   ]
  },
  {
   "cell_type": "markdown",
   "id": "82bb78d1",
   "metadata": {},
   "source": [
    "## 2. Feature Scaling"
   ]
  },
  {
   "cell_type": "code",
   "execution_count": 43,
   "id": "abc218a8",
   "metadata": {},
   "outputs": [
    {
     "name": "stdout",
     "output_type": "stream",
     "text": [
      "Selected features for normalization: ['Age', 'Fare']\n",
      "Available features in dataset: ['Age', 'Fare']\n",
      "\n",
      "Sample data for scaling:\n",
      "    Age     Fare\n",
      "0  22.0   7.2500\n",
      "1  38.0  71.2833\n",
      "2  26.0   7.9250\n",
      "3  35.0  53.1000\n",
      "4  35.0   8.0500\n",
      "5  25.0   8.4583\n",
      "6  54.0  51.8625\n",
      "7   2.0  21.0750\n",
      "8  27.0  11.1333\n",
      "9  14.0  30.0708\n"
     ]
    }
   ],
   "source": [
    "# Select specific numeric features for scaling\n",
    "selected_features = ['Age', 'Fare']\n",
    "print(\"Selected features for normalization:\", selected_features)\n",
    "\n",
    "# Verify all selected features exist in the dataset\n",
    "available_features = [col for col in selected_features if col in df_clean.columns]\n",
    "print(\"Available features in dataset:\", available_features)\n",
    "\n",
    "# Take first 10 rows of selected features for demonstration\n",
    "sample_data = df_clean[available_features].iloc[:10]\n",
    "print(\"\\nSample data for scaling:\")\n",
    "print(sample_data)"
   ]
  },
  {
   "cell_type": "markdown",
   "id": "8d7329f6",
   "metadata": {},
   "source": [
    "### Min-Max Normalization (Manual Implementation)\n",
    "Formula: X_normalized = (X - X_min) / (X_max - X_min)"
   ]
  },
  {
   "cell_type": "code",
   "execution_count": 44,
   "id": "33ba8972",
   "metadata": {},
   "outputs": [
    {
     "name": "stdout",
     "output_type": "stream",
     "text": [
      "\n",
      "Age: min=2.0, max=54.0\n",
      "\n",
      "Fare: min=7.25, max=71.2833\n",
      "\n",
      "Min-Max Normalized Data:\n",
      "        Age      Fare\n",
      "0  0.384615  0.000000\n",
      "1  0.692308  1.000000\n",
      "2  0.461538  0.010541\n",
      "3  0.634615  0.716034\n",
      "4  0.634615  0.012493\n",
      "5  0.442308  0.018870\n",
      "6  1.000000  0.696708\n",
      "7  0.000000  0.215903\n",
      "8  0.480769  0.060645\n",
      "9  0.230769  0.356390\n"
     ]
    }
   ],
   "source": [
    "def min_max_normalize(data):\n",
    "    \"\"\"\n",
    "    Manual implementation of Min-Max normalization\n",
    "    Formula: (x - min) / (max - min)\n",
    "    \"\"\"\n",
    "    normalized_data = data.copy().astype(float)\n",
    "    \n",
    "    for column in data.columns:\n",
    "        col_min = data[column].min()\n",
    "        col_max = data[column].max()\n",
    "        \n",
    "        print(f\"\\n{column}: min={col_min}, max={col_max}\")\n",
    "        \n",
    "        # Apply min-max formula\n",
    "        for i in data.index:\n",
    "            original_val = data.loc[i, column]\n",
    "            normalized_val = (original_val - col_min) / (col_max - col_min)\n",
    "            normalized_data.loc[i, column] = normalized_val\n",
    "    \n",
    "    return normalized_data\n",
    "\n",
    "# Apply Min-Max normalization\n",
    "minmax_normalized = min_max_normalize(sample_data)\n",
    "print(\"\\nMin-Max Normalized Data:\")\n",
    "print(minmax_normalized)"
   ]
  },
  {
   "cell_type": "markdown",
   "id": "323645bd",
   "metadata": {},
   "source": [
    "### Z-Score Standardization (Manual Implementation)\n",
    "Formula: X_standardized = (X - μ) / σ"
   ]
  },
  {
   "cell_type": "code",
   "execution_count": 46,
   "id": "1efbf687",
   "metadata": {},
   "outputs": [
    {
     "name": "stdout",
     "output_type": "stream",
     "text": [
      "\n",
      "Age: mean=27.800, std=14.125\n",
      "\n",
      "Fare: mean=27.021, std=23.602\n",
      "\n",
      "Z-Score Standardized Data:\n",
      "        Age      Fare\n",
      "0 -0.410624 -0.837678\n",
      "1  0.722132  1.875375\n",
      "2 -0.127435 -0.809078\n",
      "3  0.509740  1.104959\n",
      "4  0.509740 -0.803782\n",
      "5 -0.198232 -0.786483\n",
      "6  1.854888  1.052527\n",
      "7 -1.826569 -0.251921\n",
      "8 -0.056638 -0.673145\n",
      "9 -0.977002  0.129226\n"
     ]
    }
   ],
   "source": [
    "def z_score_standardize(data):\n",
    "    standardized_data = data.copy().astype(float)\n",
    "    \n",
    "    for column in data.columns:\n",
    "        # Calculate mean manually\n",
    "        col_sum = sum(data[column])\n",
    "        col_mean = col_sum / len(data[column])\n",
    "        \n",
    "        # Calculate standard deviation manually\n",
    "        squared_diffs = [(x - col_mean) ** 2 for x in data[column]]\n",
    "        variance = sum(squared_diffs) / (len(data[column]) - 1)  # Sample standard deviation\n",
    "        col_std = math.sqrt(variance)\n",
    "        \n",
    "        print(f\"\\n{column}: mean={col_mean:.3f}, std={col_std:.3f}\")\n",
    "        \n",
    "        # Apply z-score formula\n",
    "        for i in data.index:\n",
    "            original_val = data.loc[i, column]\n",
    "            standardized_val = (original_val - col_mean) / col_std\n",
    "            standardized_data.loc[i, column] = standardized_val\n",
    "    \n",
    "    return standardized_data\n",
    "\n",
    "# Apply Z-score standardization\n",
    "zscore_standardized = z_score_standardize(sample_data)\n",
    "print(\"\\nZ-Score Standardized Data:\")\n",
    "print(zscore_standardized)"
   ]
  },
  {
   "cell_type": "markdown",
   "id": "4a9fc091",
   "metadata": {},
   "source": [
    "## 3. Similarity and Dissimilarity Measures"
   ]
  },
  {
   "cell_type": "code",
   "execution_count": 35,
   "id": "b4ba99de",
   "metadata": {},
   "outputs": [
    {
     "name": "stdout",
     "output_type": "stream",
     "text": [
      "Vector 1: [0. 0. 1.]\n",
      "Vector 2: [0.11111111 1.         0.        ]\n"
     ]
    }
   ],
   "source": [
    "# Prepare sample vectors for similarity calculations\n",
    "# Take first two rows of normalized data as sample vectors\n",
    "vector1 = minmax_normalized.iloc[0].values\n",
    "vector2 = minmax_normalized.iloc[1].values\n",
    "\n",
    "print(\"Vector 1:\", vector1)\n",
    "print(\"Vector 2:\", vector2)"
   ]
  },
  {
   "cell_type": "markdown",
   "id": "2ec848f0",
   "metadata": {},
   "source": [
    "### 1. Pearson's Correlation (Manual Implementation)\n",
    "Formula: r = Σ[(xi - x̄)(yi - ȳ)] / √[Σ(xi - x̄)² × Σ(yi - ȳ)²]"
   ]
  },
  {
   "cell_type": "code",
   "execution_count": 36,
   "id": "442ddb69",
   "metadata": {},
   "outputs": [
    {
     "name": "stdout",
     "output_type": "stream",
     "text": [
      "Mean of x: 0.3333\n",
      "Mean of y: 0.3704\n",
      "Numerator: -0.3704\n",
      "Denominator: 0.6329\n",
      "\n",
      "Pearson's Correlation: -0.5852\n"
     ]
    }
   ],
   "source": [
    "def pearson_correlation(x, y):\n",
    "    \"\"\"\n",
    "    Manual implementation of Pearson's correlation coefficient\n",
    "    \"\"\"\n",
    "    n = len(x)\n",
    "    \n",
    "    # Calculate means\n",
    "    x_mean = sum(x) / n\n",
    "    y_mean = sum(y) / n\n",
    "    \n",
    "    print(f\"Mean of x: {x_mean:.4f}\")\n",
    "    print(f\"Mean of y: {y_mean:.4f}\")\n",
    "    \n",
    "    # Calculate numerator and denominators\n",
    "    numerator = 0\n",
    "    sum_x_squared = 0\n",
    "    sum_y_squared = 0\n",
    "    \n",
    "    for i in range(n):\n",
    "        x_diff = x[i] - x_mean\n",
    "        y_diff = y[i] - y_mean\n",
    "        \n",
    "        numerator += x_diff * y_diff\n",
    "        sum_x_squared += x_diff ** 2\n",
    "        sum_y_squared += y_diff ** 2\n",
    "    \n",
    "    # Calculate correlation coefficient\n",
    "    denominator = math.sqrt(sum_x_squared * sum_y_squared)\n",
    "    \n",
    "    if denominator == 0:\n",
    "        return 0\n",
    "    \n",
    "    correlation = numerator / denominator\n",
    "    \n",
    "    print(f\"Numerator: {numerator:.4f}\")\n",
    "    print(f\"Denominator: {denominator:.4f}\")\n",
    "    \n",
    "    return correlation\n",
    "\n",
    "# Calculate Pearson's correlation\n",
    "pearson_corr = pearson_correlation(vector1, vector2)\n",
    "print(f\"\\nPearson's Correlation: {pearson_corr:.4f}\")"
   ]
  },
  {
   "cell_type": "markdown",
   "id": "7a741f69",
   "metadata": {},
   "source": [
    "### 2. Cosine Similarity (Manual Implementation)\n",
    "Formula: cosine_similarity = (A · B) / (||A|| × ||B||)"
   ]
  },
  {
   "cell_type": "code",
   "execution_count": 37,
   "id": "a3efe8ad",
   "metadata": {},
   "outputs": [
    {
     "name": "stdout",
     "output_type": "stream",
     "text": [
      "Dot product: 0.0000\n",
      "Magnitude of x: 1.0000\n",
      "Magnitude of y: 1.0062\n",
      "\n",
      "Cosine Similarity: 0.0000\n"
     ]
    }
   ],
   "source": [
    "def cosine_similarity(x, y):\n",
    "    \"\"\"\n",
    "    Manual implementation of cosine similarity\n",
    "    \"\"\"\n",
    "    # Calculate dot product\n",
    "    dot_product = 0\n",
    "    for i in range(len(x)):\n",
    "        dot_product += x[i] * y[i]\n",
    "    \n",
    "    # Calculate magnitudes\n",
    "    magnitude_x = 0\n",
    "    magnitude_y = 0\n",
    "    \n",
    "    for i in range(len(x)):\n",
    "        magnitude_x += x[i] ** 2\n",
    "        magnitude_y += y[i] ** 2\n",
    "    \n",
    "    magnitude_x = math.sqrt(magnitude_x)\n",
    "    magnitude_y = math.sqrt(magnitude_y)\n",
    "    \n",
    "    print(f\"Dot product: {dot_product:.4f}\")\n",
    "    print(f\"Magnitude of x: {magnitude_x:.4f}\")\n",
    "    print(f\"Magnitude of y: {magnitude_y:.4f}\")\n",
    "    \n",
    "    # Calculate cosine similarity\n",
    "    if magnitude_x == 0 or magnitude_y == 0:\n",
    "        return 0\n",
    "    \n",
    "    cosine_sim = dot_product / (magnitude_x * magnitude_y)\n",
    "    return cosine_sim\n",
    "\n",
    "# Calculate Cosine similarity\n",
    "cosine_sim = cosine_similarity(vector1, vector2)\n",
    "print(f\"\\nCosine Similarity: {cosine_sim:.4f}\")"
   ]
  },
  {
   "cell_type": "markdown",
   "id": "5d545ed2",
   "metadata": {},
   "source": [
    "### 3. Jaccard Similarity (Manual Implementation)\n",
    "Formula: J(A,B) = |A ∩ B| / |A ∪ B|\n",
    "Note: For continuous data, we'll convert to binary using a threshold"
   ]
  },
  {
   "cell_type": "code",
   "execution_count": 38,
   "id": "ccd4c95f",
   "metadata": {},
   "outputs": [
    {
     "name": "stdout",
     "output_type": "stream",
     "text": [
      "Binary set x (indices > 0.5): {2}\n",
      "Binary set y (indices > 0.5): {1}\n",
      "Intersection: set()\n",
      "Union: {1, 2}\n",
      "\n",
      "Jaccard Similarity: 0.0000\n"
     ]
    }
   ],
   "source": [
    "def jaccard_similarity(x, y, threshold=0.5):\n",
    "    \"\"\"\n",
    "    Manual implementation of Jaccard similarity\n",
    "    Convert continuous values to binary using threshold\n",
    "    \"\"\"\n",
    "    # Convert to binary sets\n",
    "    set_x = set()\n",
    "    set_y = set()\n",
    "    \n",
    "    for i in range(len(x)):\n",
    "        if x[i] > threshold:\n",
    "            set_x.add(i)\n",
    "        if y[i] > threshold:\n",
    "            set_y.add(i)\n",
    "    \n",
    "    print(f\"Binary set x (indices > {threshold}): {set_x}\")\n",
    "    print(f\"Binary set y (indices > {threshold}): {set_y}\")\n",
    "    \n",
    "    # Calculate intersection and union manually\n",
    "    intersection = set()\n",
    "    union = set()\n",
    "    \n",
    "    # Find intersection\n",
    "    for item in set_x:\n",
    "        if item in set_y:\n",
    "            intersection.add(item)\n",
    "    \n",
    "    # Find union\n",
    "    for item in set_x:\n",
    "        union.add(item)\n",
    "    for item in set_y:\n",
    "        union.add(item)\n",
    "    \n",
    "    print(f\"Intersection: {intersection}\")\n",
    "    print(f\"Union: {union}\")\n",
    "    \n",
    "    # Calculate Jaccard similarity\n",
    "    if len(union) == 0:\n",
    "        return 0\n",
    "    \n",
    "    jaccard_sim = len(intersection) / len(union)\n",
    "    return jaccard_sim\n",
    "\n",
    "# Calculate Jaccard similarity\n",
    "jaccard_sim = jaccard_similarity(vector1, vector2)\n",
    "print(f\"\\nJaccard Similarity: {jaccard_sim:.4f}\")"
   ]
  },
  {
   "cell_type": "markdown",
   "id": "197b7d6f",
   "metadata": {},
   "source": [
    "### 4. Euclidean Distance (Manual Implementation)\n",
    "Formula: d(p,q) = √[Σ(pi - qi)²]"
   ]
  },
  {
   "cell_type": "code",
   "execution_count": 39,
   "id": "3cc96dde",
   "metadata": {},
   "outputs": [
    {
     "name": "stdout",
     "output_type": "stream",
     "text": [
      "Point-wise differences:\n",
      "  Point 0: (0.000 - 0.111)² = 0.012346\n",
      "  Point 1: (0.000 - 1.000)² = 1.000000\n",
      "  Point 2: (1.000 - 0.000)² = 1.000000\n",
      "Sum of squared differences: 2.012346\n",
      "\n",
      "Euclidean Distance: 1.4186\n"
     ]
    }
   ],
   "source": [
    "def euclidean_distance(x, y):\n",
    "    \"\"\"\n",
    "    Manual implementation of Euclidean distance\n",
    "    \"\"\"\n",
    "    sum_squared_diff = 0\n",
    "    \n",
    "    print(\"Point-wise differences:\")\n",
    "    for i in range(len(x)):\n",
    "        diff = x[i] - y[i]\n",
    "        squared_diff = diff ** 2\n",
    "        sum_squared_diff += squared_diff\n",
    "        print(f\"  Point {i}: ({x[i]:.3f} - {y[i]:.3f})² = {squared_diff:.6f}\")\n",
    "    \n",
    "    print(f\"Sum of squared differences: {sum_squared_diff:.6f}\")\n",
    "    \n",
    "    # Calculate Euclidean distance\n",
    "    euclidean_dist = math.sqrt(sum_squared_diff)\n",
    "    return euclidean_dist\n",
    "\n",
    "# Calculate Euclidean distance\n",
    "euclidean_dist = euclidean_distance(vector1, vector2)\n",
    "print(f\"\\nEuclidean Distance: {euclidean_dist:.4f}\")"
   ]
  },
  {
   "cell_type": "markdown",
   "id": "0384160a",
   "metadata": {},
   "source": [
    "## Summary of Results"
   ]
  },
  {
   "cell_type": "code",
   "execution_count": 40,
   "id": "1be12725",
   "metadata": {},
   "outputs": [
    {
     "name": "stdout",
     "output_type": "stream",
     "text": [
      "==================================================\n",
      "SUMMARY OF SIMILARITY AND DISTANCE MEASURES\n",
      "==================================================\n",
      "Pearson's Correlation:  -0.5852\n",
      "Cosine Similarity:      0.0000\n",
      "Jaccard Similarity:     0.0000\n",
      "Euclidean Distance:     1.4186\n",
      "==================================================\n",
      "\n",
      "Interpretation:\n",
      "- Higher correlation/similarity values indicate more similar vectors\n",
      "- Lower distance values indicate more similar vectors\n",
      "- Pearson correlation ranges from -1 to 1\n",
      "- Cosine similarity ranges from -1 to 1\n",
      "- Jaccard similarity ranges from 0 to 1\n",
      "- Euclidean distance ranges from 0 to infinity\n"
     ]
    }
   ],
   "source": [
    "print(\"=\" * 50)\n",
    "print(\"SUMMARY OF SIMILARITY AND DISTANCE MEASURES\")\n",
    "print(\"=\" * 50)\n",
    "print(f\"Pearson's Correlation:  {pearson_corr:.4f}\")\n",
    "print(f\"Cosine Similarity:      {cosine_sim:.4f}\")\n",
    "print(f\"Jaccard Similarity:     {jaccard_sim:.4f}\")\n",
    "print(f\"Euclidean Distance:     {euclidean_dist:.4f}\")\n",
    "print(\"=\" * 50)\n",
    "\n",
    "print(\"\\nInterpretation:\")\n",
    "print(\"- Higher correlation/similarity values indicate more similar vectors\")\n",
    "print(\"- Lower distance values indicate more similar vectors\")\n",
    "print(\"- Pearson correlation ranges from -1 to 1\")\n",
    "print(\"- Cosine similarity ranges from -1 to 1\")\n",
    "print(\"- Jaccard similarity ranges from 0 to 1\")\n",
    "print(\"- Euclidean distance ranges from 0 to infinity\")"
   ]
  }
 ],
 "metadata": {
  "kernelspec": {
   "display_name": "Python 3",
   "language": "python",
   "name": "python3"
  },
  "language_info": {
   "codemirror_mode": {
    "name": "ipython",
    "version": 3
   },
   "file_extension": ".py",
   "mimetype": "text/x-python",
   "name": "python",
   "nbconvert_exporter": "python",
   "pygments_lexer": "ipython3",
   "version": "3.13.2"
  }
 },
 "nbformat": 4,
 "nbformat_minor": 5
}
